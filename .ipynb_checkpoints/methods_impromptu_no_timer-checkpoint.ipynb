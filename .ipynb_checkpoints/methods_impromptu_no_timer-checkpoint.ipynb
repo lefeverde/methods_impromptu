{
 "cells": [
  {
   "cell_type": "code",
   "execution_count": 2,
   "metadata": {
    "scrolled": false,
    "slideshow": {
     "slide_type": "fragment"
    }
   },
   "outputs": [
    {
     "data": {
      "application/vnd.jupyter.widget-view+json": {
       "model_id": "0dccf69ea7814f15bfb315a751954317",
       "version_major": 2,
       "version_minor": 0
      },
      "text/plain": [
       "HBox(children=(Button(description='Back', style=ButtonStyle()), Button(description='Next', style=ButtonStyle()…"
      ]
     },
     "metadata": {},
     "output_type": "display_data"
    },
    {
     "data": {
      "application/vnd.jupyter.widget-view+json": {
       "model_id": "327daed50bce4114b3d4d7c4bb39f56d",
       "version_major": 2,
       "version_minor": 0
      },
      "text/plain": [
       "Output()"
      ]
     },
     "metadata": {},
     "output_type": "display_data"
    }
   ],
   "source": [
    "#nbi:hide_in\n",
    "import ipywidgets as widgets\n",
    "import time\n",
    "\n",
    "from random import sample, shuffle\n",
    "from IPython.display import display, clear_output\n",
    "from ipywidgets import interact, interactive, fixed, interact_manual, Layout, Button\n",
    "\n",
    "# Misc Functions\n",
    "\n",
    "def countdown(t=180):\n",
    "    while t:\n",
    "        mins, secs = divmod(t, 60)\n",
    "        timeformat = '{:02d}:{:02d}'.format(mins, secs)\n",
    "        print(timeformat, end='\\r')\n",
    "        time.sleep(1)\n",
    "        t -= 1\n",
    "\n",
    "\n",
    "        \n",
    "def methods_on_button_clicked(b):\n",
    "    with output:\n",
    "        None\n",
    "        #thread = threading.Thread(target=countdown)\n",
    "        #thread.start()\n",
    "\n",
    "\n",
    "def next_clicked(b):\n",
    "    with output:\n",
    "        global i # IDX\n",
    "        clear_output(wait=True)\n",
    "        cur_name = \"<h1>\" + shuffled_nms[i] + \"<h1>\" # student name\n",
    "        cur_methods = sample(wet, 3) + sample(dry, 3)\n",
    "        buttons = widgets.ToggleButtons(value=None,\n",
    "                                        options=cur_methods,\n",
    "                                        disabled=False,\n",
    "                                        style={'button_width':'400px'},\n",
    "                                        layout={'width': '320px'}\n",
    "                                       )\n",
    "        w = widgets.HTML(cur_name)\n",
    "        buttons.observe(methods_on_button_clicked, names='value')\n",
    "        display(w, buttons)\n",
    "        if i < len(shuffled_nms) -1:\n",
    "            i += 1\n",
    "\n",
    "        \n",
    "\n",
    "        \n",
    "\n",
    "def back_clicked(b):\n",
    "    with output:\n",
    "        global i # IDX\n",
    "        if i >= 1:\n",
    "            i -= 1\n",
    "        \n",
    "        clear_output(wait=True)\n",
    "\n",
    "        cur_name = \"<h1>\" + shuffled_nms[i] + \"<h1>\" # student name\n",
    "        cur_methods = sample(wet, 3) + sample(dry, 3)\n",
    "        buttons = widgets.ToggleButtons(value=None,\n",
    "                                        options=cur_methods,\n",
    "                                        disabled=False,\n",
    "                                        style={'button_width':'400px'},\n",
    "                                        layout={'width': '320px'}\n",
    "                                       )\n",
    "        w = widgets.HTML(cur_name)\n",
    "        buttons.observe(methods_on_button_clicked, names='value')\n",
    "        display(w, buttons)\n",
    "        \n",
    "        \n",
    "    \n",
    "# Loading the data\n",
    "students = [i.strip() for i in open('./students.txt')]\n",
    "shuffled_nms = sample(students, len(students))\n",
    "#shuffled_nms = [\"<h1>\" + i + \"<h1>\" for i in shuffled_nms]\n",
    "wet = [i.strip() for i in open('./wet.txt')]\n",
    "dry = [i.strip() for i in open('./dry.txt')]\n",
    "\n",
    "\n",
    "# Creating all the interactive stuff\n",
    "output = widgets.Output()\n",
    "    \n",
    "next_button = widgets.Button(description=\"Next\",layout=widgets.Layout(position=\"right\"))\n",
    "back_button = widgets.Button(description=\"Back\", layout=widgets.Layout(position=\"left\"))\n",
    "\n",
    "\n",
    "i = 0\n",
    "next_button.on_click(next_clicked)\n",
    "back_button.on_click(back_clicked)\n",
    "display(widgets.HBox([back_button, next_button]))\n",
    "\n",
    "output\n"
   ]
  },
  {
   "cell_type": "code",
   "execution_count": null,
   "metadata": {},
   "outputs": [],
   "source": []
  }
 ],
 "metadata": {
  "kernelspec": {
   "display_name": "Python 3",
   "language": "python",
   "name": "python3"
  },
  "language_info": {
   "codemirror_mode": {
    "name": "ipython",
    "version": 3
   },
   "file_extension": ".py",
   "mimetype": "text/x-python",
   "name": "python",
   "nbconvert_exporter": "python",
   "pygments_lexer": "ipython3",
   "version": "3.7.3"
  }
 },
 "nbformat": 4,
 "nbformat_minor": 4
}
