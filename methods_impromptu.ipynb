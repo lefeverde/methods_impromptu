{
 "cells": [
  {
   "cell_type": "code",
   "execution_count": 2,
   "metadata": {},
   "outputs": [
    {
     "data": {
      "application/vnd.jupyter.widget-view+json": {
       "model_id": "68e2383cbb7047448bfbed02d752916f",
       "version_major": 2,
       "version_minor": 0
      },
      "text/plain": [
       "HTML(value='<h1>Name2<h1>')"
      ]
     },
     "metadata": {},
     "output_type": "display_data"
    },
    {
     "data": {
      "application/vnd.jupyter.widget-view+json": {
       "model_id": "46fa31254eff4570baa08f2e76f09f8a",
       "version_major": 2,
       "version_minor": 0
      },
      "text/plain": [
       "ToggleButtons(options=('Method6', 'Method2', 'Method9', 'Method8', 'Method0', 'Method4'), value=None)"
      ]
     },
     "metadata": {},
     "output_type": "display_data"
    },
    {
     "data": {
      "application/vnd.jupyter.widget-view+json": {
       "model_id": "724f3571f8cc4b3aa141dba8a8afb018",
       "version_major": 2,
       "version_minor": 0
      },
      "text/plain": [
       "Button(description='Next', style=ButtonStyle())"
      ]
     },
     "metadata": {},
     "output_type": "display_data"
    },
    {
     "name": "stdout",
     "output_type": "stream",
     "text": [
      "00:01\r"
     ]
    }
   ],
   "source": [
    "import ipywidgets as widgets\n",
    "import time\n",
    "\n",
    "from random import sample, shuffle\n",
    "from IPython.display import display, clear_output\n",
    "from ipywidgets import interact, interactive, fixed, interact_manual, Layout, Button\n",
    "\n",
    "sample_nms = [\"Name\" + str(i) for i in  list(range(0, 10))]\n",
    "sample_methods = [\"Method\" + str(i) for i in  list(range(0, 10))]\n",
    "\n",
    "# Misc Functions\n",
    "\n",
    "def countdown(t):\n",
    "    while t:\n",
    "        mins, secs = divmod(t, 60)\n",
    "        timeformat = '{:02d}:{:02d}'.format(mins, secs)\n",
    "        print(timeformat, end='\\r')\n",
    "        time.sleep(1)\n",
    "        t -= 1\n",
    "        \n",
    "def methods_on_button_clicked(b):\n",
    "    countdown(2)\n",
    "\n",
    "\n",
    "def on_button_clicked(b):\n",
    "    global i # IDX\n",
    "    clear_output(wait=True)\n",
    "    #with output:\n",
    "    cur_name = \"<h1>\" + shuffled_nms[i] + \"<h1>\" # student name\n",
    "    cur_methods = sample(sample_methods, 6)\n",
    "    buttons = widgets.ToggleButtons(value=None, options=cur_methods)\n",
    "    w = widgets.HTML(cur_name)\n",
    "    buttons.observe(methods_on_button_clicked, names='value')\n",
    "    display(w, buttons)\n",
    "    #clear_output()\n",
    "    if i < len(shuffled_nms):\n",
    "        i += 1\n",
    "    #clear_output(wait=True)\n",
    "    display(button)\n",
    "\n",
    "    \n",
    "\n",
    "\n",
    "\n",
    "button = widgets.Button(description=\"Next\")\n",
    "display(button)\n",
    "        \n",
    "#button = widgets.Button(description=\"Next\")\n",
    "#display(button)\n",
    "shuffled_nms = sample(sample_nms, len(sample_nms))\n",
    "\n",
    "i = 0\n",
    "button.on_click(on_button_clicked)\n"
   ]
  }
 ],
 "metadata": {
  "kernelspec": {
   "display_name": "Python 3",
   "language": "python",
   "name": "python3"
  },
  "language_info": {
   "codemirror_mode": {
    "name": "ipython",
    "version": 3
   },
   "file_extension": ".py",
   "mimetype": "text/x-python",
   "name": "python",
   "nbconvert_exporter": "python",
   "pygments_lexer": "ipython3",
   "version": "3.7.3"
  }
 },
 "nbformat": 4,
 "nbformat_minor": 4
}
