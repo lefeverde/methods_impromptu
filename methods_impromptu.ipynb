{
 "cells": [
  {
   "cell_type": "code",
   "execution_count": 2,
   "metadata": {},
   "outputs": [
    {
     "data": {
      "application/vnd.jupyter.widget-view+json": {
       "model_id": "f27dcfc00d23430db35d12f068a23409",
       "version_major": 2,
       "version_minor": 0
      },
      "text/plain": [
       "HTML(value='<h1>Name6<h1>')"
      ]
     },
     "metadata": {},
     "output_type": "display_data"
    },
    {
     "data": {
      "application/vnd.jupyter.widget-view+json": {
       "model_id": "e7832f692b7041caae9247c1fdb68cec",
       "version_major": 2,
       "version_minor": 0
      },
      "text/plain": [
       "ToggleButtons(options=('Method5', 'Method3', 'Method6', 'Method8', 'Method9', 'Method4'), value=None)"
      ]
     },
     "metadata": {},
     "output_type": "display_data"
    },
    {
     "data": {
      "application/vnd.jupyter.widget-view+json": {
       "model_id": "724f3571f8cc4b3aa141dba8a8afb018",
       "version_major": 2,
       "version_minor": 0
      },
      "text/plain": [
       "Button(description='Next', style=ButtonStyle())"
      ]
     },
     "metadata": {},
     "output_type": "display_data"
    },
    {
     "name": "stdout",
     "output_type": "stream",
     "text": [
      "00:01\r"
     ]
    }
   ],
   "source": [
    "import ipywidgets as widgets\n",
    "import time\n",
    "\n",
    "from random import sample, shuffle\n",
    "from IPython.display import display, clear_output\n",
    "from ipywidgets import interact, interactive, fixed, interact_manual, Layout, Button\n",
    "\n",
    "sample_nms = [\"Name\" + str(i) for i in  list(range(0, 10))]\n",
    "sample_methods = [\"Method\" + str(i) for i in  list(range(0, 10))]\n",
    "\n",
    "# Misc Functions\n",
    "\n",
    "def countdown(t):\n",
    "    while t:\n",
    "        mins, secs = divmod(t, 60)\n",
    "        timeformat = '{:02d}:{:02d}'.format(mins, secs)\n",
    "        print(timeformat, end='\\r')\n",
    "        time.sleep(1)\n",
    "        t -= 1\n",
    "        \n",
    "def methods_on_button_clicked(b):\n",
    "    countdown(2)\n",
    "\n",
    "\n",
    "def on_button_clicked(b):\n",
    "    global i # IDX\n",
    "    clear_output(wait=True)\n",
    "    #with output:\n",
    "    cur_name = \"<h1>\" + shuffled_nms[i] + \"<h1>\" # student name\n",
    "    cur_methods = sample(sample_methods, 6)\n",
    "    buttons = widgets.ToggleButtons(value=None, options=cur_methods)\n",
    "    w = widgets.HTML(cur_name)\n",
    "    buttons.observe(methods_on_button_clicked, names='value')\n",
    "    display(w, buttons)\n",
    "    #clear_output()\n",
    "    if i < len(shuffled_nms):\n",
    "        i += 1\n",
    "    #clear_output(wait=True)\n",
    "    display(button)\n",
    "\n",
    "    \n",
    "\n",
    "\n",
    "\n",
    "button = widgets.Button(description=\"Next\")\n",
    "display(button)\n",
    "        \n",
    "#button = widgets.Button(description=\"Next\")\n",
    "#display(button)\n",
    "shuffled_nms = sample(sample_nms, len(sample_nms))\n",
    "\n",
    "i = 0\n",
    "button.on_click(on_button_clicked)\n"
   ]
  },
  {
   "cell_type": "code",
   "execution_count": null,
   "metadata": {},
   "outputs": [],
   "source": [
    "# Start condition\n",
    "start_button = widgets.Button(description=\"Start\")\n",
    "display(start_button)\n",
    "\n",
    "# Next iteration\n",
    "next_button = widgets.Button(description=\"Next\")\n",
    "next_button.on_click(on_button_clicked)"
   ]
  },
  {
   "cell_type": "code",
   "execution_count": 47,
   "metadata": {
    "scrolled": false
   },
   "outputs": [
    {
     "ename": "IndexError",
     "evalue": "list index out of range",
     "output_type": "error",
     "traceback": [
      "\u001b[0;31m---------------------------------------------------------------------------\u001b[0m",
      "\u001b[0;31mIndexError\u001b[0m                                Traceback (most recent call last)",
      "\u001b[0;32m<ipython-input-47-8cf950a22800>\u001b[0m in \u001b[0;36mon_button_clicked\u001b[0;34m(b)\u001b[0m\n\u001b[1;32m     14\u001b[0m     \u001b[0;32mglobal\u001b[0m \u001b[0mi\u001b[0m \u001b[0;31m# IDX\u001b[0m\u001b[0;34m\u001b[0m\u001b[0;34m\u001b[0m\u001b[0m\n\u001b[1;32m     15\u001b[0m     \u001b[0mclear_output\u001b[0m\u001b[0;34m(\u001b[0m\u001b[0mwait\u001b[0m\u001b[0;34m=\u001b[0m\u001b[0;32mTrue\u001b[0m\u001b[0;34m)\u001b[0m\u001b[0;34m\u001b[0m\u001b[0;34m\u001b[0m\u001b[0m\n\u001b[0;32m---> 16\u001b[0;31m     \u001b[0mcur_name\u001b[0m \u001b[0;34m=\u001b[0m \u001b[0;34m\"<h1>\"\u001b[0m \u001b[0;34m+\u001b[0m \u001b[0mshuffled_nms\u001b[0m\u001b[0;34m[\u001b[0m\u001b[0mi\u001b[0m\u001b[0;34m]\u001b[0m \u001b[0;34m+\u001b[0m \u001b[0;34m\"<h1>\"\u001b[0m \u001b[0;31m# student name\u001b[0m\u001b[0;34m\u001b[0m\u001b[0;34m\u001b[0m\u001b[0m\n\u001b[0m\u001b[1;32m     17\u001b[0m     \u001b[0mcur_methods\u001b[0m \u001b[0;34m=\u001b[0m \u001b[0msample\u001b[0m\u001b[0;34m(\u001b[0m\u001b[0msample_methods\u001b[0m\u001b[0;34m,\u001b[0m \u001b[0;36m6\u001b[0m\u001b[0;34m)\u001b[0m\u001b[0;34m\u001b[0m\u001b[0;34m\u001b[0m\u001b[0m\n\u001b[1;32m     18\u001b[0m     \u001b[0mwrapper\u001b[0m\u001b[0;34m(\u001b[0m\u001b[0mcur_methods\u001b[0m\u001b[0;34m,\u001b[0m \u001b[0mcur_name\u001b[0m\u001b[0;34m,\u001b[0m \u001b[0moutput\u001b[0m\u001b[0;34m)\u001b[0m\u001b[0;34m\u001b[0m\u001b[0;34m\u001b[0m\u001b[0m\n",
      "\u001b[0;31mIndexError\u001b[0m: list index out of range"
     ]
    }
   ],
   "source": [
    "from IPython.display import display, clear_output\n",
    "import ipywidgets as widgets\n",
    "\n",
    "button = widgets.Button(description=\"Next\")\n",
    "display(button)\n",
    "\n",
    "#output = widgets.Output()\n",
    "\n",
    "i = 0\n",
    "\n",
    "\n",
    "\n",
    "def on_button_clicked(b):\n",
    "    global i # IDX\n",
    "    clear_output(wait=True)\n",
    "    cur_name = \"<h1>\" + shuffled_nms[i] + \"<h1>\" # student name\n",
    "    cur_methods = sample(sample_methods, 6)\n",
    "    wrapper(cur_methods, cur_name, output)\n",
    "    if i < len(shuffled_nms):\n",
    "        print(shuffled_nms[i])\n",
    "        i += 1\n",
    "    \n",
    "    display(button)\n",
    "\n",
    "button.on_click(on_button_clicked)\n"
   ]
  }
 ],
 "metadata": {
  "kernelspec": {
   "display_name": "Python 3",
   "language": "python",
   "name": "python3"
  },
  "language_info": {
   "codemirror_mode": {
    "name": "ipython",
    "version": 3
   },
   "file_extension": ".py",
   "mimetype": "text/x-python",
   "name": "python",
   "nbconvert_exporter": "python",
   "pygments_lexer": "ipython3",
   "version": "3.7.3"
  }
 },
 "nbformat": 4,
 "nbformat_minor": 4
}
